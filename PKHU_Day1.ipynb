{
 "cells": [
  {
   "cell_type": "markdown",
   "metadata": {},
   "source": [
    "# Day 0"
   ]
  },
  {
   "cell_type": "code",
   "execution_count": null,
   "metadata": {
    "collapsed": true
   },
   "outputs": [],
   "source": [
    "input_string = input()\n",
    "# input Data = Welcome to 30 Days of Code!\n",
    "\n",
    "\n",
    "print('Hello, World.')\n",
    "print(input_string)"
   ]
  },
  {
   "cell_type": "markdown",
   "metadata": {},
   "source": [
    "# Day 1"
   ]
  },
  {
   "cell_type": "code",
   "execution_count": null,
   "metadata": {
    "collapsed": true
   },
   "outputs": [],
   "source": [
    "i = 4\n",
    "d = 4.0\n",
    "s = 'Hackerrank '"
   ]
  },
  {
   "cell_type": "code",
   "execution_count": null,
   "metadata": {
    "collapsed": true
   },
   "outputs": [],
   "source": [
    "i2 = int(input())\n",
    "d2 = float(input())\n",
    "s2 = str(input())\n",
    "           \n",
    "\n",
    "print(i + i2)\n",
    "print(d + d2)\n",
    "print(s+s2)"
   ]
  },
  {
   "cell_type": "markdown",
   "metadata": {},
   "source": [
    "# Day 2"
   ]
  },
  {
   "cell_type": "code",
   "execution_count": null,
   "metadata": {
    "collapsed": true
   },
   "outputs": [],
   "source": [
    "import sys\n",
    "\n",
    "if __name__ == \"__main__\":\n",
    "    meal_cost = float(input().strip())\n",
    "    tip_percent = int(input().strip())\n",
    "    tax_percent = int(input().strip())\n",
    "    \n",
    "# input data = 12.00, 20, 8\n",
    "    \n",
    "    tip = meal_cost * tip_percent / 100\n",
    "    tax = meal_cost * tax_percent / 100\n",
    "    totalCost = round(meal_cost + tip + tax)\n",
    "    \n",
    "    print(\"The total meal cost is {} dollars.\".format(totalCost))"
   ]
  },
  {
   "cell_type": "code",
   "execution_count": null,
   "metadata": {
    "collapsed": true
   },
   "outputs": [],
   "source": []
  },
  {
   "cell_type": "code",
   "execution_count": null,
   "metadata": {
    "collapsed": true
   },
   "outputs": [],
   "source": []
  },
  {
   "cell_type": "code",
   "execution_count": null,
   "metadata": {
    "collapsed": true
   },
   "outputs": [],
   "source": []
  }
 ],
 "metadata": {
  "kernelspec": {
   "display_name": "Python 3",
   "language": "python",
   "name": "python3"
  },
  "language_info": {
   "codemirror_mode": {
    "name": "ipython",
    "version": 3
   },
   "file_extension": ".py",
   "mimetype": "text/x-python",
   "name": "python",
   "nbconvert_exporter": "python",
   "pygments_lexer": "ipython3",
   "version": "3.6.3"
  }
 },
 "nbformat": 4,
 "nbformat_minor": 2
}
